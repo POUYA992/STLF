{
  "nbformat": 4,
  "nbformat_minor": 0,
  "metadata": {
    "colab": {
      "provenance": [],
      "gpuType": "T4"
    },
    "kernelspec": {
      "name": "python3",
      "display_name": "Python 3"
    },
    "language_info": {
      "name": "python"
    }
  },
  "cells": [
    {
      "cell_type": "code",
      "source": [
        "import torch\n",
        "import torch.nn as nn \n",
        "from torch import nn, Tensor\n",
        "from torch.utils.data import Dataset\n",
        "import torch.nn.functional as F\n",
        "import math\n",
        "import os\n",
        "import pandas as pd\n",
        "import numpy as np\n",
        "from typing import Tuple\n",
        "from sklearn.preprocessing import OneHotEncoder\n",
        "from sklearn.preprocessing import StandardScaler\n",
        "from sklearn.preprocessing import MinMaxScaler\n",
        "from torch.utils.data import DataLoader\n",
        "import datetime\n",
        "from typing import Union\n",
        "from pathlib import Path"
      ],
      "metadata": {
        "id": "M8ZYo0VWGACP"
      },
      "execution_count": 2,
      "outputs": []
    },
    {
      "cell_type": "code",
      "source": [
        "import pandas as pd\n",
        "df = pd.read_csv('/content/drive/MyDrive/ausdata.csv')\n",
        "\n",
        "series = df['SYSLoad']\n",
        "series_2 = df['Date']\n"
      ],
      "metadata": {
        "id": "GBLBq7daL6lb"
      },
      "execution_count": 4,
      "outputs": []
    },
    {
      "cell_type": "code",
      "source": [
        "def get_indices_entire_sequence(data: pd.DataFrame, window_size: int, step_size: int) -> list:\n",
        "\n",
        "        stop_position = len(data)-1 # 1- because of 0 indexing\n",
        "        \n",
        "        # Start the first sub-sequence at index position 0\n",
        "        subseq_first_idx = 0\n",
        "        \n",
        "        subseq_last_idx = window_size\n",
        "        \n",
        "        indices = []\n",
        "        \n",
        "        while subseq_last_idx <= stop_position:\n",
        "\n",
        "            indices.append((subseq_first_idx, subseq_last_idx))\n",
        "            \n",
        "            subseq_first_idx += step_size\n",
        "            \n",
        "            subseq_last_idx += step_size\n",
        "\n",
        "        return indices\n"
      ],
      "metadata": {
        "id": "LNkqfkFdL7qn"
      },
      "execution_count": 5,
      "outputs": []
    },
    {
      "cell_type": "code",
      "source": [
        "def read_data(data_dir: Union[str, Path] = \"data\",  \n",
        "    timestamp_col_name: str=\"timestamp\") -> pd.DataFrame:\n",
        "\n",
        "    # Ensure that `data_dir` is a Path object\n",
        "    data_dir = Path(data_dir)\n",
        "\n",
        "    # Read csv file\n",
        "    csv_files = list(data_dir.glob(\"*.csv\"))\n",
        "    \n",
        "    if len(csv_files) > 1:\n",
        "        raise ValueError(\"data_dir contains more than 1 csv file. Must only contain 1\")\n",
        "    elif len(csv_files) == 0:\n",
        "\t      raise ValueError(\"data_dir must contain at least 1 csv file.\")\n",
        "\n",
        "    data_path = csv_files[0]\n",
        "\n",
        "    print(\"Reading file in {}\".format(data_path))\n",
        "\n",
        "    data = pd.read_csv(\n",
        "        data_path, \n",
        "        parse_dates=[timestamp_col_name], \n",
        "        index_col=[timestamp_col_name], \n",
        "        infer_datetime_format=True,\n",
        "        low_memory=False\n",
        "    )\n",
        "\n",
        "\n",
        "    data.sort_values(by=[timestamp_col_name], inplace=True)\n",
        "\n",
        "    return data"
      ],
      "metadata": {
        "id": "y7Cv87K_MHed"
      },
      "execution_count": 6,
      "outputs": []
    },
    {
      "cell_type": "code",
      "source": [
        "data_dir='/content/drive/MyDrive/ausdata.csv'"
      ],
      "metadata": {
        "id": "5XYP2q_zMSou"
      },
      "execution_count": 7,
      "outputs": []
    },
    {
      "cell_type": "code",
      "source": [
        "mydata = pd.read_csv(data_dir)"
      ],
      "metadata": {
        "id": "5L3K_3TrMVTi"
      },
      "execution_count": 8,
      "outputs": []
    },
    {
      "cell_type": "code",
      "source": [
        "main_dir='/content/drive/My Drive/thesis/preprocess/'\n",
        "src_dir = os.path.join(main_dir , 'sampled')\n",
        "if(not os.path.isdir(src_dir)):\n",
        "    os.makedirs(src_dir)\n",
        "mydata.to_csv(os.path.join(src_dir, 'NSW.csv'))  "
      ],
      "metadata": {
        "id": "aPMrTg_iMXoz"
      },
      "execution_count": 9,
      "outputs": []
    },
    {
      "cell_type": "code",
      "source": [
        "#create date-time column in dataframe\n",
        "\n",
        "mydata['Date']=mydata['Date'].astype(str)                     # concatenate date and hour  \n",
        "mydata['Date'] = pd.to_datetime(mydata['Date'], infer_datetime_format = True)            # change to datetime type \n",
        "mydata"
      ],
      "metadata": {
        "colab": {
          "base_uri": "https://localhost:8080/",
          "height": 424
        },
        "id": "0mmu_qS6MaRz",
        "outputId": "4be4f420-8ffc-41db-e5ac-35fb722c732f"
      },
      "execution_count": 10,
      "outputs": [
        {
          "output_type": "execute_result",
          "data": {
            "text/plain": [
              "            Date  Hour  DryBulb  DewPnt  WetBulb  Humidity  ElecPrice  \\\n",
              "0     2006-01-01   0.5    23.90   21.65    22.40      87.5      19.67   \n",
              "1     2006-01-01   1.0    23.90   21.70    22.40      88.0      18.56   \n",
              "2     2006-01-01   1.5    23.80   21.65    22.35      88.0      19.09   \n",
              "3     2006-01-01   2.0    23.70   21.60    22.30      88.0      17.40   \n",
              "4     2006-01-01   2.5    23.70   21.60    22.30      88.0      17.00   \n",
              "...          ...   ...      ...     ...      ...       ...        ...   \n",
              "87643 2010-12-31  22.0    22.60   19.10    20.40      81.0      23.86   \n",
              "87644 2010-12-31  22.5    22.45   19.05    20.30      81.5      26.49   \n",
              "87645 2010-12-31  23.0    22.30   19.00    20.20      82.0      25.18   \n",
              "87646 2010-12-31  23.5    22.05   19.05    20.15      83.5      26.19   \n",
              "87647 2011-01-01   0.0    21.80   19.10    20.10      85.0      24.62   \n",
              "\n",
              "          SYSLoad  \n",
              "0      8013.27833  \n",
              "1      7726.89167  \n",
              "2      7372.85833  \n",
              "3      7071.83333  \n",
              "4      6865.44000  \n",
              "...           ...  \n",
              "87643  8449.54000  \n",
              "87644  8508.16000  \n",
              "87645  8413.14000  \n",
              "87646  8173.79000  \n",
              "87647  8063.36000  \n",
              "\n",
              "[87648 rows x 8 columns]"
            ],
            "text/html": [
              "\n",
              "  <div id=\"df-d72d97e2-6b7c-406b-8304-a76bbeaa23e7\">\n",
              "    <div class=\"colab-df-container\">\n",
              "      <div>\n",
              "<style scoped>\n",
              "    .dataframe tbody tr th:only-of-type {\n",
              "        vertical-align: middle;\n",
              "    }\n",
              "\n",
              "    .dataframe tbody tr th {\n",
              "        vertical-align: top;\n",
              "    }\n",
              "\n",
              "    .dataframe thead th {\n",
              "        text-align: right;\n",
              "    }\n",
              "</style>\n",
              "<table border=\"1\" class=\"dataframe\">\n",
              "  <thead>\n",
              "    <tr style=\"text-align: right;\">\n",
              "      <th></th>\n",
              "      <th>Date</th>\n",
              "      <th>Hour</th>\n",
              "      <th>DryBulb</th>\n",
              "      <th>DewPnt</th>\n",
              "      <th>WetBulb</th>\n",
              "      <th>Humidity</th>\n",
              "      <th>ElecPrice</th>\n",
              "      <th>SYSLoad</th>\n",
              "    </tr>\n",
              "  </thead>\n",
              "  <tbody>\n",
              "    <tr>\n",
              "      <th>0</th>\n",
              "      <td>2006-01-01</td>\n",
              "      <td>0.5</td>\n",
              "      <td>23.90</td>\n",
              "      <td>21.65</td>\n",
              "      <td>22.40</td>\n",
              "      <td>87.5</td>\n",
              "      <td>19.67</td>\n",
              "      <td>8013.27833</td>\n",
              "    </tr>\n",
              "    <tr>\n",
              "      <th>1</th>\n",
              "      <td>2006-01-01</td>\n",
              "      <td>1.0</td>\n",
              "      <td>23.90</td>\n",
              "      <td>21.70</td>\n",
              "      <td>22.40</td>\n",
              "      <td>88.0</td>\n",
              "      <td>18.56</td>\n",
              "      <td>7726.89167</td>\n",
              "    </tr>\n",
              "    <tr>\n",
              "      <th>2</th>\n",
              "      <td>2006-01-01</td>\n",
              "      <td>1.5</td>\n",
              "      <td>23.80</td>\n",
              "      <td>21.65</td>\n",
              "      <td>22.35</td>\n",
              "      <td>88.0</td>\n",
              "      <td>19.09</td>\n",
              "      <td>7372.85833</td>\n",
              "    </tr>\n",
              "    <tr>\n",
              "      <th>3</th>\n",
              "      <td>2006-01-01</td>\n",
              "      <td>2.0</td>\n",
              "      <td>23.70</td>\n",
              "      <td>21.60</td>\n",
              "      <td>22.30</td>\n",
              "      <td>88.0</td>\n",
              "      <td>17.40</td>\n",
              "      <td>7071.83333</td>\n",
              "    </tr>\n",
              "    <tr>\n",
              "      <th>4</th>\n",
              "      <td>2006-01-01</td>\n",
              "      <td>2.5</td>\n",
              "      <td>23.70</td>\n",
              "      <td>21.60</td>\n",
              "      <td>22.30</td>\n",
              "      <td>88.0</td>\n",
              "      <td>17.00</td>\n",
              "      <td>6865.44000</td>\n",
              "    </tr>\n",
              "    <tr>\n",
              "      <th>...</th>\n",
              "      <td>...</td>\n",
              "      <td>...</td>\n",
              "      <td>...</td>\n",
              "      <td>...</td>\n",
              "      <td>...</td>\n",
              "      <td>...</td>\n",
              "      <td>...</td>\n",
              "      <td>...</td>\n",
              "    </tr>\n",
              "    <tr>\n",
              "      <th>87643</th>\n",
              "      <td>2010-12-31</td>\n",
              "      <td>22.0</td>\n",
              "      <td>22.60</td>\n",
              "      <td>19.10</td>\n",
              "      <td>20.40</td>\n",
              "      <td>81.0</td>\n",
              "      <td>23.86</td>\n",
              "      <td>8449.54000</td>\n",
              "    </tr>\n",
              "    <tr>\n",
              "      <th>87644</th>\n",
              "      <td>2010-12-31</td>\n",
              "      <td>22.5</td>\n",
              "      <td>22.45</td>\n",
              "      <td>19.05</td>\n",
              "      <td>20.30</td>\n",
              "      <td>81.5</td>\n",
              "      <td>26.49</td>\n",
              "      <td>8508.16000</td>\n",
              "    </tr>\n",
              "    <tr>\n",
              "      <th>87645</th>\n",
              "      <td>2010-12-31</td>\n",
              "      <td>23.0</td>\n",
              "      <td>22.30</td>\n",
              "      <td>19.00</td>\n",
              "      <td>20.20</td>\n",
              "      <td>82.0</td>\n",
              "      <td>25.18</td>\n",
              "      <td>8413.14000</td>\n",
              "    </tr>\n",
              "    <tr>\n",
              "      <th>87646</th>\n",
              "      <td>2010-12-31</td>\n",
              "      <td>23.5</td>\n",
              "      <td>22.05</td>\n",
              "      <td>19.05</td>\n",
              "      <td>20.15</td>\n",
              "      <td>83.5</td>\n",
              "      <td>26.19</td>\n",
              "      <td>8173.79000</td>\n",
              "    </tr>\n",
              "    <tr>\n",
              "      <th>87647</th>\n",
              "      <td>2011-01-01</td>\n",
              "      <td>0.0</td>\n",
              "      <td>21.80</td>\n",
              "      <td>19.10</td>\n",
              "      <td>20.10</td>\n",
              "      <td>85.0</td>\n",
              "      <td>24.62</td>\n",
              "      <td>8063.36000</td>\n",
              "    </tr>\n",
              "  </tbody>\n",
              "</table>\n",
              "<p>87648 rows × 8 columns</p>\n",
              "</div>\n",
              "      <button class=\"colab-df-convert\" onclick=\"convertToInteractive('df-d72d97e2-6b7c-406b-8304-a76bbeaa23e7')\"\n",
              "              title=\"Convert this dataframe to an interactive table.\"\n",
              "              style=\"display:none;\">\n",
              "        \n",
              "  <svg xmlns=\"http://www.w3.org/2000/svg\" height=\"24px\"viewBox=\"0 0 24 24\"\n",
              "       width=\"24px\">\n",
              "    <path d=\"M0 0h24v24H0V0z\" fill=\"none\"/>\n",
              "    <path d=\"M18.56 5.44l.94 2.06.94-2.06 2.06-.94-2.06-.94-.94-2.06-.94 2.06-2.06.94zm-11 1L8.5 8.5l.94-2.06 2.06-.94-2.06-.94L8.5 2.5l-.94 2.06-2.06.94zm10 10l.94 2.06.94-2.06 2.06-.94-2.06-.94-.94-2.06-.94 2.06-2.06.94z\"/><path d=\"M17.41 7.96l-1.37-1.37c-.4-.4-.92-.59-1.43-.59-.52 0-1.04.2-1.43.59L10.3 9.45l-7.72 7.72c-.78.78-.78 2.05 0 2.83L4 21.41c.39.39.9.59 1.41.59.51 0 1.02-.2 1.41-.59l7.78-7.78 2.81-2.81c.8-.78.8-2.07 0-2.86zM5.41 20L4 18.59l7.72-7.72 1.47 1.35L5.41 20z\"/>\n",
              "  </svg>\n",
              "      </button>\n",
              "      \n",
              "  <style>\n",
              "    .colab-df-container {\n",
              "      display:flex;\n",
              "      flex-wrap:wrap;\n",
              "      gap: 12px;\n",
              "    }\n",
              "\n",
              "    .colab-df-convert {\n",
              "      background-color: #E8F0FE;\n",
              "      border: none;\n",
              "      border-radius: 50%;\n",
              "      cursor: pointer;\n",
              "      display: none;\n",
              "      fill: #1967D2;\n",
              "      height: 32px;\n",
              "      padding: 0 0 0 0;\n",
              "      width: 32px;\n",
              "    }\n",
              "\n",
              "    .colab-df-convert:hover {\n",
              "      background-color: #E2EBFA;\n",
              "      box-shadow: 0px 1px 2px rgba(60, 64, 67, 0.3), 0px 1px 3px 1px rgba(60, 64, 67, 0.15);\n",
              "      fill: #174EA6;\n",
              "    }\n",
              "\n",
              "    [theme=dark] .colab-df-convert {\n",
              "      background-color: #3B4455;\n",
              "      fill: #D2E3FC;\n",
              "    }\n",
              "\n",
              "    [theme=dark] .colab-df-convert:hover {\n",
              "      background-color: #434B5C;\n",
              "      box-shadow: 0px 1px 3px 1px rgba(0, 0, 0, 0.15);\n",
              "      filter: drop-shadow(0px 1px 2px rgba(0, 0, 0, 0.3));\n",
              "      fill: #FFFFFF;\n",
              "    }\n",
              "  </style>\n",
              "\n",
              "      <script>\n",
              "        const buttonEl =\n",
              "          document.querySelector('#df-d72d97e2-6b7c-406b-8304-a76bbeaa23e7 button.colab-df-convert');\n",
              "        buttonEl.style.display =\n",
              "          google.colab.kernel.accessAllowed ? 'block' : 'none';\n",
              "\n",
              "        async function convertToInteractive(key) {\n",
              "          const element = document.querySelector('#df-d72d97e2-6b7c-406b-8304-a76bbeaa23e7');\n",
              "          const dataTable =\n",
              "            await google.colab.kernel.invokeFunction('convertToInteractive',\n",
              "                                                     [key], {});\n",
              "          if (!dataTable) return;\n",
              "\n",
              "          const docLinkHtml = 'Like what you see? Visit the ' +\n",
              "            '<a target=\"_blank\" href=https://colab.research.google.com/notebooks/data_table.ipynb>data table notebook</a>'\n",
              "            + ' to learn more about interactive tables.';\n",
              "          element.innerHTML = '';\n",
              "          dataTable['output_type'] = 'display_data';\n",
              "          await google.colab.output.renderOutput(dataTable, element);\n",
              "          const docLink = document.createElement('div');\n",
              "          docLink.innerHTML = docLinkHtml;\n",
              "          element.appendChild(docLink);\n",
              "        }\n",
              "      </script>\n",
              "    </div>\n",
              "  </div>\n",
              "  "
            ]
          },
          "metadata": {},
          "execution_count": 10
        }
      ]
    },
    {
      "cell_type": "code",
      "source": [
        "data = read_data(src_dir,timestamp_col_name=\"Date\")"
      ],
      "metadata": {
        "colab": {
          "base_uri": "https://localhost:8080/"
        },
        "id": "eIWesxuEMaUo",
        "outputId": "61f8b270-5182-4eee-8e7d-f727aa7d9d09"
      },
      "execution_count": 11,
      "outputs": [
        {
          "output_type": "stream",
          "name": "stdout",
          "text": [
            "Reading file in /content/drive/My Drive/thesis/preprocess/sampled/NSW.csv\n"
          ]
        }
      ]
    },
    {
      "cell_type": "code",
      "source": [
        "#normalization\n",
        "\n",
        "\n",
        "nb_time = len(data)\n",
        "nb_val = int(nb_time*0.8)\n",
        "\n",
        "train, test = data[:nb_val], data[nb_val:]\n",
        "\n",
        "scaler_E=StandardScaler() \n",
        "\n",
        "E_train_scaled=scaler_E.fit_transform(train.SYSLoad.values.reshape(-1, 1))   #E is the same as SYSLoad\n",
        "E_test_scaled=scaler_E.transform(test.SYSLoad.values.reshape(-1, 1))\n",
        "\n",
        "data['SYSLoad']=np.concatenate((E_train_scaled,E_test_scaled), axis=0)\n",
        "\n",
        "data.to_csv(os.path.join(src_dir, 'NSW.csv'))  "
      ],
      "metadata": {
        "id": "xvdfgKEOMaXP"
      },
      "execution_count": 12,
      "outputs": []
    },
    {
      "cell_type": "code",
      "source": [
        "class Dataset_generator(Dataset):\n",
        "\n",
        "    def __init__(self, \n",
        "        #myscaler:any,         \n",
        "        data: torch.tensor,\n",
        "        indices: list, \n",
        "        input_seq_len: int, \n",
        "        output_seq_len: int\n",
        "        ) -> None:\n",
        "\n",
        "\n",
        "        \n",
        "        super().__init__()\n",
        "\n",
        "      \n",
        "\n",
        "        self.indices = indices\n",
        "\n",
        "        self.data = data\n",
        "\n",
        "\n",
        "\n",
        "        self.input_seq_len = input_seq_len\n",
        "\n",
        "\n",
        "\n",
        "        self.output_seq_len = output_seq_len\n",
        "\n",
        "\n",
        "\n",
        "    def __len__(self):\n",
        "        \n",
        "        return len(self.indices)\n",
        "\n",
        "    def __getitem__(self, index):\n",
        "\n",
        "        # Get the first element of the i'th tuple in the list self.indicesasdfas\n",
        "        start_idx = self.indices[index][0]\n",
        "\n",
        "        # Get the second (and last) element of the i'th tuple in the list self.indices\n",
        "        end_idx = self.indices[index][1]\n",
        "\n",
        "        sequence = self.data[start_idx:end_idx]\n",
        "\n",
        "        \n",
        "\n",
        "        \n",
        "\n",
        "        src, trg = self.get_src_trg(\n",
        "            \n",
        "            sequence=sequence,\n",
        "            input_seq_len=self.input_seq_len,\n",
        "            output_seq_len=self.output_seq_len\n",
        "            )\n",
        "        \n",
        "        return src, trg      \n",
        "    \n",
        "    def get_src_trg(\n",
        "        self,\n",
        "        sequence: torch.Tensor, \n",
        "        input_seq_len: int, \n",
        "        output_seq_len: int\n",
        "        ) -> Tuple[torch.tensor, torch.tensor]:\n",
        "        \n",
        "\n",
        "\n",
        "        assert len(sequence) == input_seq_len + output_seq_len, \"Sequence length does not equal (input length + target length)\"\n",
        "        \n",
        "        # encoder input\n",
        "        src = sequence[:input_seq_len] \n",
        "        \n",
        "        \n",
        "\n",
        "\n",
        "        trg_y = sequence[-output_seq_len:]\n",
        "\n",
        "        if len(trg_y.shape) == 1:  #new\n",
        "\n",
        "           trg_y = trg_y.unsqueeze(-1)          #new\n",
        "\n",
        "        assert len(trg_y) == output_seq_len, \"Length of trg_y does not match target sequence length\"\n",
        "\n",
        "        return src.unsqueeze(-1),trg_y   #.squeeze(-1) # change size from [batch_size, output_seq_len, num_features] to [batch_size, output_seq_len] \n"
      ],
      "metadata": {
        "id": "G7TEMX3BMaaG"
      },
      "execution_count": 13,
      "outputs": []
    },
    {
      "cell_type": "code",
      "source": [
        "# change it based on your dataset\n",
        "training_data = data[:nb_val]    #80 % of dataset\n",
        "validation_data = data[nb_val:int(nb_time*0.9)]   #20 % of dataset\n",
        "test_data = data[int(nb_time*0.9):]    #20 % of dataset"
      ],
      "metadata": {
        "id": "-HFeaMF_MrO9"
      },
      "execution_count": 14,
      "outputs": []
    },
    {
      "cell_type": "code",
      "source": [
        "input_seq_len = 24  #input to model previous day \n",
        "output_sequence_length  = 6  #prediction horizon   \n",
        "step_size = 1\n",
        "\n",
        "window_size = input_seq_len + output_sequence_length\n",
        "\n",
        "training_indices = get_indices_entire_sequence(\n",
        "    data=training_data, \n",
        "    window_size=window_size, \n",
        "    step_size=step_size)\n",
        "\n",
        "validation_indices = get_indices_entire_sequence(\n",
        "    data=validation_data, \n",
        "    window_size=window_size, \n",
        "    step_size=step_size)\n",
        "\n",
        "test_indices = get_indices_entire_sequence(\n",
        "    data=test_data, \n",
        "    window_size=window_size, \n",
        "    step_size=step_size)"
      ],
      "metadata": {
        "id": "EzZMPHi-MmII"
      },
      "execution_count": 15,
      "outputs": []
    },
    {
      "cell_type": "code",
      "source": [
        "batch_size = 1024 \n",
        "# Making instance of custom dataset class\n",
        "training_data = Dataset_generator(\n",
        "    #myscaler=scaler_E,\n",
        "    data=torch.tensor(training_data['SYSLoad'].values).float(),\n",
        "    indices=training_indices,\n",
        "    input_seq_len=input_seq_len,\n",
        "    output_seq_len=output_sequence_length,\n",
        "    )\n",
        "\n",
        "validation_data = Dataset_generator(\n",
        "    #myscaler=scaler_E,\n",
        "    data=torch.tensor(validation_data['SYSLoad'].values).float(),\n",
        "    indices=validation_indices,\n",
        "    input_seq_len=input_seq_len,\n",
        "    output_seq_len=output_sequence_length,\n",
        "    )\n",
        "\n",
        "test_data = Dataset_generator(\n",
        "    #myscaler=scaler_E,\n",
        "    data=torch.tensor(test_data['SYSLoad'].values).float(),\n",
        "    indices=test_indices,\n",
        "    input_seq_len=input_seq_len,\n",
        "    output_seq_len=output_sequence_length,\n",
        "    )\n",
        "\n",
        "# Making dataloader\n",
        "training_data_load = DataLoader(training_data, batch_size)\n",
        "validation_data_load = DataLoader(validation_data, batch_size)\n",
        "test_data_load = DataLoader(test_data, batch_size)"
      ],
      "metadata": {
        "id": "i4RwfbeSMvix"
      },
      "execution_count": 16,
      "outputs": []
    },
    {
      "cell_type": "code",
      "source": [
        "class LSTMNet(nn.Module):\n",
        "    def __init__(self, input_size, hidden_size, num_layers):\n",
        "        super(LSTMNet, self).__init__()\n",
        "        self.input_size = input_size\n",
        "        self.hidden_size = hidden_size\n",
        "        self.num_layers = num_layers\n",
        "        \n",
        "        self.lstm = nn.LSTM(\n",
        "            input_size=input_size, hidden_size=hidden_size,\n",
        "            num_layers=num_layers, batch_first=True\n",
        "        )\n",
        "        \n",
        "        self.fc1 = nn.Linear(hidden_size,40)\n",
        "        self.fc2 = nn.Linear(40,1)\n",
        "        self.relu = nn.ReLU()\n",
        "\n",
        "    def forward(self, x):\n",
        "      batch_size = x.size(0)\n",
        "      seq_len = x.size(1)\n",
        "      \n",
        "      h0 = torch.zeros(self.num_layers, batch_size, self.hidden_size).to(x.device)\n",
        "      c0 = torch.zeros(self.num_layers, batch_size, self.hidden_size).to(x.device)\n",
        "      \n",
        "      h_out, _ = self.lstm(x, (h0, c0))\n",
        "      h_out = h_out[:, -1, :]  # Take the final hidden state from the last time step\n",
        "      \n",
        "      out = self.fc2(self.relu(self.fc1(h_out)))\n",
        "      \n",
        "      return out"
      ],
      "metadata": {
        "id": "BUskPNPh6tH4"
      },
      "execution_count": 17,
      "outputs": []
    },
    {
      "cell_type": "code",
      "source": [
        "#LSTM\n",
        "class LSTMModel(nn.Module):\n",
        "    def __init__(self, input_size, hidden_size, output_size, num_layers,forecast_window):\n",
        "        super(LSTMModel, self).__init__()\n",
        "        self.hidden_size = hidden_size\n",
        "        self.num_layers = num_layers\n",
        "        self.output_seq = forecast_window\n",
        "        self.lstm = nn.LSTM(input_size, hidden_size, num_layers, batch_first=True)\n",
        "        self.fc = nn.Linear(hidden_size, output_size)\n",
        "        \n",
        "    def forward(self, x):\n",
        "        # Initialize hidden and cell states\n",
        "        h0 = torch.zeros(self.num_layers, x.size(0), self.hidden_size).to(x.device)\n",
        "        c0 = torch.zeros(self.num_layers, x.size(0), self.hidden_size).to(x.device)\n",
        "        \n",
        "        # Forward propagate LSTM\n",
        "        out, _ = self.lstm(x, (h0, c0))  \n",
        "        \n",
        "        # Decode the hidden state of the last time step\n",
        "        out = self.fc(out[:, -self.output_seq:, :])  # select the last 48 time steps and pass through fully connected layer\n",
        "        # print(out.shape)\n",
        "        \n",
        "        return out"
      ],
      "metadata": {
        "id": "5JCJ4mpA6tQl"
      },
      "execution_count": 18,
      "outputs": []
    },
    {
      "cell_type": "code",
      "source": [
        "EPOCHS = 50\n",
        "LEARNING_RATE = 0.0001\n",
        "device = 'cuda' if torch.cuda.is_available() else 'cpu'\n",
        "\n",
        "forecast_window = 6\n",
        "input_size = 1\n",
        "num_layers = 2\n",
        "output_size = 1\n",
        "hidden_size = 100\n",
        "model = LSTMModel(input_size, hidden_size, output_size, num_layers,forecast_window)\n",
        "criterion = torch.nn.MSELoss()\n",
        "model.to(device)\n",
        "optimizer = torch.optim.Adam(model.parameters(), lr = LEARNING_RATE)\n",
        "\n"
      ],
      "metadata": {
        "id": "KjOb0kc67njB"
      },
      "execution_count": 19,
      "outputs": []
    },
    {
      "cell_type": "code",
      "source": [
        "early_stopping_patience = 150\n",
        "early_stopping_counter = 0\n",
        "\n",
        "train_loss = []\n",
        "val_loss = []\n",
        "\n",
        "for epoch in range(EPOCHS):\n",
        "    \n",
        "  model.train()\n",
        "\n",
        "  for i , (input, output) in enumerate(training_data_load):\n",
        "    input = input.to(device)\n",
        "    output = output.to(device)\n",
        "    optimizer.zero_grad()\n",
        "\n",
        "    pred = model(input)\n",
        "    loss_tr = criterion(output, pred)\n",
        "\n",
        "    loss_tr.backward()\n",
        "\n",
        "    optimizer.step()\n",
        "\n",
        "  train_loss.append(loss_tr.item())\n",
        "\n",
        "  model.eval()      \n",
        "  with torch.no_grad():\n",
        "    \n",
        "    for i , (input, output) in enumerate(validation_data_load):\n",
        "      input = input.to(device)\n",
        "      output = output.to(device)\n",
        "\n",
        "      pred = model(input)\n",
        "      loss_val = criterion(output, pred)\n",
        "\n",
        "    val_loss.append(loss_val.item())\n",
        "\n",
        "    print(f'epoch {epoch} -->  train loss :{loss_tr.item()} , val loss : {loss_val.item()}')\n"
      ],
      "metadata": {
        "colab": {
          "base_uri": "https://localhost:8080/"
        },
        "id": "GJEb34-x7Slq",
        "outputId": "64d77d2a-5ba7-4d63-fc5e-2eeb5b9549cc"
      },
      "execution_count": 20,
      "outputs": [
        {
          "output_type": "stream",
          "name": "stdout",
          "text": [
            "epoch 0 -->  train loss :1.2123299837112427 , val loss : 1.551006555557251\n",
            "epoch 1 -->  train loss :1.121047854423523 , val loss : 1.304757833480835\n",
            "epoch 2 -->  train loss :1.0506985187530518 , val loss : 1.2586029767990112\n",
            "epoch 3 -->  train loss :1.0203940868377686 , val loss : 1.2211285829544067\n",
            "epoch 4 -->  train loss :1.0023589134216309 , val loss : 1.1844217777252197\n",
            "epoch 5 -->  train loss :0.9864148497581482 , val loss : 1.1757183074951172\n",
            "epoch 6 -->  train loss :0.967261791229248 , val loss : 1.1803827285766602\n",
            "epoch 7 -->  train loss :0.9513469338417053 , val loss : 1.189221978187561\n",
            "epoch 8 -->  train loss :0.9347701668739319 , val loss : 1.1877720355987549\n",
            "epoch 9 -->  train loss :0.9032658934593201 , val loss : 1.1678646802902222\n",
            "epoch 10 -->  train loss :0.740211546421051 , val loss : 1.101194977760315\n",
            "epoch 11 -->  train loss :0.6555083394050598 , val loss : 0.9698885679244995\n",
            "epoch 12 -->  train loss :0.672006368637085 , val loss : 0.8826395273208618\n",
            "epoch 13 -->  train loss :0.6594454050064087 , val loss : 0.8279629349708557\n",
            "epoch 14 -->  train loss :0.6215093731880188 , val loss : 0.8053034543991089\n",
            "epoch 15 -->  train loss :0.5972091555595398 , val loss : 0.7948501110076904\n",
            "epoch 16 -->  train loss :0.5833448171615601 , val loss : 0.7851757407188416\n",
            "epoch 17 -->  train loss :0.574154794216156 , val loss : 0.7759770750999451\n",
            "epoch 18 -->  train loss :0.5673468708992004 , val loss : 0.7674936652183533\n",
            "epoch 19 -->  train loss :0.5618582963943481 , val loss : 0.7593850493431091\n",
            "epoch 20 -->  train loss :0.557121753692627 , val loss : 0.7512255907058716\n",
            "epoch 21 -->  train loss :0.5528243780136108 , val loss : 0.7425696849822998\n",
            "epoch 22 -->  train loss :0.5487657785415649 , val loss : 0.7329246997833252\n",
            "epoch 23 -->  train loss :0.544780433177948 , val loss : 0.7217453122138977\n",
            "epoch 24 -->  train loss :0.5407519340515137 , val loss : 0.7086641788482666\n",
            "epoch 25 -->  train loss :0.5367457270622253 , val loss : 0.6940501928329468\n",
            "epoch 26 -->  train loss :0.5331073999404907 , val loss : 0.6791223287582397\n",
            "epoch 27 -->  train loss :0.530188262462616 , val loss : 0.6648759245872498\n",
            "epoch 28 -->  train loss :0.528038501739502 , val loss : 0.6514942049980164\n",
            "epoch 29 -->  train loss :0.5264943242073059 , val loss : 0.6391180157661438\n",
            "epoch 30 -->  train loss :0.5253023505210876 , val loss : 0.6279698014259338\n",
            "epoch 31 -->  train loss :0.5242233276367188 , val loss : 0.6181313395500183\n",
            "epoch 32 -->  train loss :0.5231236815452576 , val loss : 0.6094662547111511\n",
            "epoch 33 -->  train loss :0.5219675898551941 , val loss : 0.6018240451812744\n",
            "epoch 34 -->  train loss :0.5207884311676025 , val loss : 0.5950351357460022\n",
            "epoch 35 -->  train loss :0.519623339176178 , val loss : 0.5889283418655396\n",
            "epoch 36 -->  train loss :0.5184803605079651 , val loss : 0.5833508968353271\n",
            "epoch 37 -->  train loss :0.5173392295837402 , val loss : 0.5781891942024231\n",
            "epoch 38 -->  train loss :0.5161712169647217 , val loss : 0.5733556151390076\n",
            "epoch 39 -->  train loss :0.5149549245834351 , val loss : 0.5687936544418335\n",
            "epoch 40 -->  train loss :0.5136852860450745 , val loss : 0.5644624829292297\n",
            "epoch 41 -->  train loss :0.5123701095581055 , val loss : 0.5603258013725281\n",
            "epoch 42 -->  train loss :0.5110225081443787 , val loss : 0.5563573241233826\n",
            "epoch 43 -->  train loss :0.5096590518951416 , val loss : 0.5525440573692322\n",
            "epoch 44 -->  train loss :0.5082967877388 , val loss : 0.5488825440406799\n",
            "epoch 45 -->  train loss :0.506951630115509 , val loss : 0.5453743934631348\n",
            "epoch 46 -->  train loss :0.505636990070343 , val loss : 0.5420228838920593\n",
            "epoch 47 -->  train loss :0.5043638944625854 , val loss : 0.5388293862342834\n",
            "epoch 48 -->  train loss :0.503141462802887 , val loss : 0.5357917547225952\n",
            "epoch 49 -->  train loss :0.5019773840904236 , val loss : 0.5329033732414246\n"
          ]
        }
      ]
    },
    {
      "cell_type": "code",
      "source": [
        "import matplotlib.dates as mdates\n",
        "import matplotlib.pyplot as plt\n",
        "import tqdm\n",
        "plt.style.use('ggplot')\n",
        "#from torchmetrics import MeanAbsolutePercentageError\n",
        "  # visualization\n",
        "  #  Create count of the number of epochs\n",
        "epoch_count = range(1, len(train_loss) + 1)\n",
        "\n",
        "# Visualize loss history\n",
        "plt.clf()\n",
        "plt.plot(epoch_count, train_loss, 'r--')\n",
        "plt.plot(epoch_count, val_loss, 'b-')\n",
        "plt.legend(['Training Loss','Validation Loss']) #, ['test Loss']\n",
        "plt.xlabel('Epoch')\n",
        "plt.ylabel('Loss')\n",
        "#plt.savefig(plots_file)"
      ],
      "metadata": {
        "colab": {
          "base_uri": "https://localhost:8080/",
          "height": 476
        },
        "id": "0t_5vES07SoP",
        "outputId": "2d11d24e-376f-4407-d4df-6dc3a58cfe98"
      },
      "execution_count": 21,
      "outputs": [
        {
          "output_type": "execute_result",
          "data": {
            "text/plain": [
              "Text(0, 0.5, 'Loss')"
            ]
          },
          "metadata": {},
          "execution_count": 21
        },
        {
          "output_type": "display_data",
          "data": {
            "text/plain": [
              "<Figure size 640x480 with 1 Axes>"
            ],
            "image/png": "[encoded data removed]"
          },
          "metadata": {}
        }
      ]
    },
    {
      "cell_type": "code",
      "source": [
        "#RMSE MAPE\n",
        "def RMSE(predictions, targets):\n",
        "    return torch.sqrt(torch.mean((predictions - targets)**2))\n",
        "\n",
        "def MAPE(predictions, targets):\n",
        "    return torch.mean(torch.abs((targets - predictions) / targets)*100)"
      ],
      "metadata": {
        "id": "Yp_GtOeBdpBl"
      },
      "execution_count": 22,
      "outputs": []
    },
    {
      "cell_type": "code",
      "source": [
        "for i , (input, output) in enumerate(validation_data_load):\n",
        "  input = input.to(device)\n",
        "  output = output.to(device)"
      ],
      "metadata": {
        "id": "FmwqTNHueppQ"
      },
      "execution_count": 23,
      "outputs": []
    },
    {
      "cell_type": "code",
      "source": [
        "#for test set\n",
        "RMSE_result_test=[]\n",
        "MAPE_result_test=[]\n",
        "\n",
        "#model_cp = torch.load('/content/drive/My Drive/Ali-thesis/implementation/weights_LM/prediction weights last.pth')     # load last model from drive \n",
        "#model.load_state_dict(model_cp['model_state_dict'])\n",
        "model.to(device)\n",
        "model.eval()\n",
        "with torch.no_grad():\n",
        "  for i, (input ,output) in enumerate(validation_data_load):   # validation_dataloader\n",
        "\n",
        "    \n",
        "      input=input.to(device)\n",
        "      output=output.to(device)\n",
        "     \n",
        "\n",
        "      prediction = model(input)\n",
        "\n",
        "      #use inverse of scaler that we used for normalization for both y_true and prediction\n",
        "      prediction=scaler_E.inverse_transform(prediction.detach().cpu().numpy().squeeze(-1))\n",
        "      prediction=torch.tensor(prediction)\n",
        "      prediction=prediction.unsqueeze(-1).to(device)\n",
        "\n",
        "      output=scaler_E.inverse_transform(output.detach().cpu().numpy().squeeze(-1))\n",
        "      output=torch.tensor(output)\n",
        "      output=output.unsqueeze(-1).to(device)\n",
        "\n",
        "      #loss_test = torch.sqrt(criterion(tgt_y, prediction))\n",
        "      RMSE_test = RMSE(prediction,output)\n",
        "      MAPE_test = MAPE(prediction,output)\n",
        "\n",
        "      RMSE_result_test.append(RMSE_test.item())\n",
        "      MAPE_result_test.append(MAPE_test.item())"
      ],
      "metadata": {
        "id": "oemwndpZl0hh"
      },
      "execution_count": 24,
      "outputs": []
    },
    {
      "cell_type": "code",
      "source": [
        "def Average(lst):\n",
        "    return sum(lst) / len(lst)"
      ],
      "metadata": {
        "id": "JU1nz1gYfk8R"
      },
      "execution_count": 25,
      "outputs": []
    },
    {
      "cell_type": "code",
      "source": [
        "RMSE_avg=Average(RMSE_result_test)\n",
        "MAPE_avg= Average(MAPE_result_test)"
      ],
      "metadata": {
        "id": "W1w43h9SWg09"
      },
      "execution_count": 26,
      "outputs": []
    },
    {
      "cell_type": "code",
      "source": [
        "print('The mean square error is: %f' % RMSE_avg)\n",
        "print('MAPE is: %f' % MAPE_avg)"
      ],
      "metadata": {
        "colab": {
          "base_uri": "https://localhost:8080/"
        },
        "id": "l9QMV7ybdrkc",
        "outputId": "3e67b3f2-4eab-441c-b39d-42979d0c021f"
      },
      "execution_count": 27,
      "outputs": [
        {
          "output_type": "stream",
          "name": "stdout",
          "text": [
            "The mean square error is: 936.877211\n",
            "MAPE is: 8.091892\n"
          ]
        }
      ]
    },
    {
      "cell_type": "code",
      "source": [
        "predictions=np.array(prediction.detach().cpu().numpy())"
      ],
      "metadata": {
        "id": "5G0Lnbaeorpc"
      },
      "execution_count": 28,
      "outputs": []
    },
    {
      "cell_type": "code",
      "source": [
        "outputs = np.array(output.detach().cpu().numpy())"
      ],
      "metadata": {
        "id": "yvzUy7kVorrv"
      },
      "execution_count": 29,
      "outputs": []
    },
    {
      "cell_type": "code",
      "source": [
        "pred = predictions[:,-1,:]\n",
        "out = outputs[:,-1,:]"
      ],
      "metadata": {
        "id": "dpbo8vE8oruF"
      },
      "execution_count": 30,
      "outputs": []
    },
    {
      "cell_type": "code",
      "source": [
        "fig = plt.figure(facecolor='white', figsize=(12, 6))\n",
        "ax = fig.add_subplot(111)\n",
        "ax.plot(pred[-200:], label='True Data')\n",
        "plt.plot(out[-200:], label='Prediction')\n",
        "plt.legend()\n",
        "plt.show()"
      ],
      "metadata": {
        "colab": {
          "base_uri": "https://localhost:8080/",
          "height": 522
        },
        "id": "6VGpOSvSp-2J",
        "outputId": "e1ac235b-7ff3-42fe-f311-727d81eaa39c"
      },
      "execution_count": 31,
      "outputs": [
        {
          "output_type": "display_data",
          "data": {
            "text/plain": [
              "<Figure size 1200x600 with 1 Axes>"
            ],
            "image/png": "[encoded data removed]"
          },
          "metadata": {}
        }
      ]
    },
    {
      "cell_type": "code",
      "source": [],
      "metadata": {
        "id": "iCnrn5YFp-4s"
      },
      "execution_count": null,
      "outputs": []
    }
  ]
}